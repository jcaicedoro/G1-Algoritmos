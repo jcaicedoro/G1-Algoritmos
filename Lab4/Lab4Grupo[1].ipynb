{
  "nbformat": 4,
  "nbformat_minor": 0,
  "metadata": {
    "colab": {
      "name": "Lab4Grupo[1].ipynb",
      "provenance": [],
      "include_colab_link": true
    },
    "kernelspec": {
      "name": "python3",
      "display_name": "Python 3"
    },
    "language_info": {
      "name": "python"
    }
  },
  "cells": [
    {
      "cell_type": "markdown",
      "metadata": {
        "id": "view-in-github",
        "colab_type": "text"
      },
      "source": [
        "<a href=\"https://colab.research.google.com/github/jcaicedoro/G1-Algoritmos/blob/main/Lab4/Lab4Grupo%5B1%5D.ipynb\" target=\"_parent\"><img src=\"https://colab.research.google.com/assets/colab-badge.svg\" alt=\"Open In Colab\"/></a>"
      ]
    },
    {
      "cell_type": "markdown",
      "source": [
        "**Algoritmo de fuerza bruta**"
      ],
      "metadata": {
        "id": "WMC4ip6dGZbl"
      }
    },
    {
      "cell_type": "code",
      "execution_count": 1,
      "metadata": {
        "colab": {
          "base_uri": "https://localhost:8080/"
        },
        "id": "EcHwaW0-ffFA",
        "outputId": "e6428c11-d14c-47f4-a9b7-0db76cacc4d8"
      },
      "outputs": [
        {
          "output_type": "stream",
          "name": "stdout",
          "text": [
            "58.4745\n",
            "150.9562726020813\n"
          ]
        }
      ],
      "source": [
        "import time\n",
        "\n",
        "start = time.time()\n",
        "\n",
        "import numpy as np\n",
        "\n",
        "def f(x):\n",
        "    y=(x**5)-(59*(x**4))+(35*(x**3))-(250*(x**2))+(x)-70\n",
        "    return y\n",
        "\n",
        "for i in np.arange(-1000,1000-0.0001,0.0001).round(4):\n",
        "    if((f(i)*f(i+0.0001))<0 or f(i)==0):\n",
        "        print(i)\n",
        "\n",
        "stop = time.time()\n",
        "\n",
        "print(stop-start)"
      ]
    },
    {
      "cell_type": "markdown",
      "source": [
        "**Algoritmo voraz por bisección**"
      ],
      "metadata": {
        "id": "OHaEG4WPGLEN"
      }
    },
    {
      "cell_type": "code",
      "source": [
        "import time\n",
        "\n",
        "start = time.time()\n",
        "\n",
        "def f(x):\n",
        "    y=(x**5)-(59*(x**4))+(35*(x**3))-(250*(x**2))+(x)-70\n",
        "    return y\n",
        "\n",
        "\n",
        "def biseccion(inicio,fin):\n",
        "\n",
        "    limInferior = inicio\n",
        "    limSuperior = fin\n",
        "\n",
        "    while (abs(limInferior-limSuperior) > (0.0001)):\n",
        "        limInferior=limSuperior\n",
        "        limSuperior=(inicio+fin)/2 \n",
        "\n",
        "        if (f(inicio)*f(limSuperior)<0):\n",
        "            fin=limSuperior\n",
        "\n",
        "        if (f(limSuperior)*f(fin)<0):\n",
        "            inicio=limSuperior\n",
        "\n",
        "    limSuperior=round(limSuperior,4)\n",
        "    print(limSuperior)\n",
        "\n",
        "biseccion(-1000,1000)\n",
        "\n",
        "stop = time.time()\n",
        "\n",
        "print(stop-start)"
      ],
      "metadata": {
        "colab": {
          "base_uri": "https://localhost:8080/"
        },
        "id": "S3PGwxe_flhr",
        "outputId": "ff32f715-d926-4b43-efeb-74356515e06c"
      },
      "execution_count": 2,
      "outputs": [
        {
          "output_type": "stream",
          "name": "stdout",
          "text": [
            "58.4746\n",
            "0.0004417896270751953\n"
          ]
        }
      ]
    }
  ]
}