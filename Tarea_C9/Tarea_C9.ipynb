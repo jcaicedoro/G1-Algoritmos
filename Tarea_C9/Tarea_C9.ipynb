{
  "nbformat": 4,
  "nbformat_minor": 0,
  "metadata": {
    "colab": {
      "name": "Tarea_C9.ipynb",
      "provenance": [],
      "authorship_tag": "ABX9TyP20aO38/e8egl5WYghc3np",
      "include_colab_link": true
    },
    "kernelspec": {
      "name": "python3",
      "display_name": "Python 3"
    },
    "language_info": {
      "name": "python"
    }
  },
  "cells": [
    {
      "cell_type": "markdown",
      "metadata": {
        "id": "view-in-github",
        "colab_type": "text"
      },
      "source": [
        "<a href=\"https://colab.research.google.com/github/jcaicedoro/G1-Algoritmos/blob/main/Tarea_C9/Tarea_C9.ipynb\" target=\"_parent\"><img src=\"https://colab.research.google.com/assets/colab-badge.svg\" alt=\"Open In Colab\"/></a>"
      ]
    },
    {
      "cell_type": "code",
      "source": [
        "#!pip install graphviz"
      ],
      "metadata": {
        "colab": {
          "base_uri": "https://localhost:8080/"
        },
        "id": "6ZKdSWBMc2zJ",
        "outputId": "c5e9581e-f5e7-4516-9c8a-c9b88e6e9738"
      },
      "execution_count": null,
      "outputs": [
        {
          "output_type": "stream",
          "name": "stdout",
          "text": [
            "Requirement already satisfied: graphviz in /usr/local/lib/python3.7/dist-packages (0.10.1)\n"
          ]
        }
      ]
    },
    {
      "cell_type": "code",
      "source": [
        "from graphviz import Digraph\n",
        "\n",
        "class newNode: \n",
        "    def __init__(self, data):\n",
        "        self.data = data\n",
        "        self.left = None\n",
        "        self.right = None\n",
        "\n",
        "    def visualize_tree(self,key):\n",
        "            if self is None: return 'Nothing in the tree!'\n",
        "            def add_nodes_edges(self, dot=None):\n",
        "                if dot is None:\n",
        "                    dot = Digraph()\n",
        "                    dot.attr('node', shape='circle', style='filled', fillcolor='lightblue')\n",
        "                    dot.node(name=str(self), label=str(self.data)) \n",
        "\n",
        "                for child in [self.left, self.right]:\n",
        "                    if child is not None:\n",
        "                        dot.attr('node', shape='circle', style='filled', fillcolor='seashell')\n",
        "                        dot.node(name=str(child) ,label=str(child.data))\n",
        "                        dot.edge(str(self), str(child))\n",
        "                        dot = add_nodes_edges(child, dot=dot)\n",
        "\n",
        "                return dot\n",
        "\n",
        "            dot = add_nodes_edges(self)\n",
        "\n",
        "            aux = self\n",
        "\n",
        "            while(True):\n",
        "                if key > aux.data:\n",
        "                    dot.node(name=str(aux.right) ,label=str(aux.right.data), fillcolor='lightblue')\n",
        "                    aux = aux.right\n",
        "\n",
        "                elif key < aux.data:\n",
        "                    dot.node(name=str(aux.left) ,label=str(aux.left.data), fillcolor='lightblue')\n",
        "                    aux = aux.left\n",
        "\n",
        "                elif (key==aux.data):\n",
        "                    break\n",
        "\n",
        "            display(dot)\n",
        "\n",
        "\n",
        "def iterativeSearch(root, key):\n",
        "    output =\"\"\n",
        "    if(key==root.data):\n",
        "        return \"El valor es la raiz\"\n",
        "    while root != None:\n",
        "        if key > root.data:\n",
        "            root = root.right\n",
        "            output+=\"Derecha \"\n",
        "        elif key < root.data:\n",
        "            root = root.left\n",
        "            output+=\"Izquierda \"\n",
        "        else:\n",
        "            return output\n",
        "    return (\"No existe un nodo con el dato \"+str(key))\n",
        " \n",
        "def insert(Node, data):\n",
        "    if Node == None:\n",
        "        return newNode(data)\n",
        "    if data < Node.data:\n",
        "        Node.left = insert(Node.left, data)\n",
        "    elif data > Node.data:\n",
        "        Node.right = insert(Node.right, data)\n",
        "    return Node\n",
        "\n",
        "if __name__ == '__main__':\n",
        "    rootKey=input(\"Ingrese el valor raiz para la generacion del arbol binario:  \")\n",
        "    root = newNode(rootKey)\n",
        "    numNodes=int(input(\"Cantidad de nodos para la generacion del arbol binario: \"))\n",
        "    for i in range(1,numNodes+1):\n",
        "        nodeKey=input(\"Ingrese el valor (\"+str(i)+\") :   \")\n",
        "        insert(root,nodeKey)\n",
        "    search = input(\"\\nDiga cual valor desea buscar en el arbol:   \")\n",
        "\n",
        "    print(\"\\nLa ruta del valor buscado desde el origen es:\")\n",
        "    print(iterativeSearch(root,search))\n",
        "    print(\"\\nNodos azules ==> Ruta\")\n",
        "    root.visualize_tree(search)\n",
        "    "
      ],
      "metadata": {
        "colab": {
          "base_uri": "https://localhost:8080/",
          "height": 878
        },
        "id": "8QEceldlcwSy",
        "outputId": "c39a58df-9120-4836-e321-09056d73d090"
      },
      "execution_count": 59,
      "outputs": [
        {
          "output_type": "stream",
          "name": "stdout",
          "text": [
            "Ingrese el valor raiz para la generacion del arbol binario:  8\n",
            "Cantidad de nodos para la generacion del arbol binario: 8\n",
            "Ingrese el valor (1) :   3\n",
            "Ingrese el valor (2) :   1\n",
            "Ingrese el valor (3) :   6\n",
            "Ingrese el valor (4) :   4\n",
            "Ingrese el valor (5) :   7\n",
            "Ingrese el valor (6) :   10\n",
            "Ingrese el valor (7) :   14\n",
            "Ingrese el valor (8) :   13\n",
            "\n",
            "Diga cual valor desea buscar en el arbol:   10\n",
            "\n",
            "La ruta del valor buscado desde el origen es:\n",
            "Izquierda Izquierda Derecha \n",
            "\n",
            "Nodos azules ==> Ruta\n"
          ]
        },
        {
          "output_type": "display_data",
          "data": {
            "text/plain": [
              "<graphviz.dot.Digraph at 0x7fccfa4fb490>"
            ],
            "image/svg+xml": "<?xml version=\"1.0\" encoding=\"UTF-8\" standalone=\"no\"?>\n<!DOCTYPE svg PUBLIC \"-//W3C//DTD SVG 1.1//EN\"\n \"http://www.w3.org/Graphics/SVG/1.1/DTD/svg11.dtd\">\n<!-- Generated by graphviz version 2.40.1 (20161225.0304)\n -->\n<!-- Title: %3 Pages: 1 -->\n<svg width=\"158pt\" height=\"421pt\"\n viewBox=\"0.00 0.00 157.80 420.79\" xmlns=\"http://www.w3.org/2000/svg\" xmlns:xlink=\"http://www.w3.org/1999/xlink\">\n<g id=\"graph0\" class=\"graph\" transform=\"scale(1 1) rotate(0) translate(4 416.7889)\">\n<title>%3</title>\n<polygon fill=\"#ffffff\" stroke=\"transparent\" points=\"-4,4 -4,-416.7889 153.7982,-416.7889 153.7982,4 -4,4\"/>\n<!-- __main__.newNode object at 0x7fccfa4f57d0 -->\n<g id=\"node1\" class=\"node\">\n<title>__main__.newNode object at 0x7fccfa4f57d0</title>\n<ellipse fill=\"#add8e6\" stroke=\"#000000\" cx=\"49.7982\" cy=\"-394.7889\" rx=\"18\" ry=\"18\"/>\n<text text-anchor=\"middle\" x=\"49.7982\" y=\"-391.0889\" font-family=\"Times,serif\" font-size=\"14.00\" fill=\"#000000\">8</text>\n</g>\n<!-- __main__.newNode object at 0x7fcd0254ab90 -->\n<g id=\"node2\" class=\"node\">\n<title>__main__.newNode object at 0x7fcd0254ab90</title>\n<ellipse fill=\"#add8e6\" stroke=\"#000000\" cx=\"49.7982\" cy=\"-322.7889\" rx=\"18\" ry=\"18\"/>\n<text text-anchor=\"middle\" x=\"49.7982\" y=\"-319.0889\" font-family=\"Times,serif\" font-size=\"14.00\" fill=\"#000000\">3</text>\n</g>\n<!-- __main__.newNode object at 0x7fccfa4f57d0&#45;&gt;__main__.newNode object at 0x7fcd0254ab90 -->\n<g id=\"edge1\" class=\"edge\">\n<title>__main__.newNode object at 0x7fccfa4f57d0&#45;&gt;__main__.newNode object at 0x7fcd0254ab90</title>\n<path fill=\"none\" stroke=\"#000000\" d=\"M49.7982,-376.6203C49.7982,-368.9199 49.7982,-359.7633 49.7982,-351.2056\"/>\n<polygon fill=\"#000000\" stroke=\"#000000\" points=\"53.2983,-351.2022 49.7982,-341.2022 46.2983,-351.2022 53.2983,-351.2022\"/>\n</g>\n<!-- __main__.newNode object at 0x7fccfa594bd0 -->\n<g id=\"node3\" class=\"node\">\n<title>__main__.newNode object at 0x7fccfa594bd0</title>\n<ellipse fill=\"#add8e6\" stroke=\"#000000\" cx=\"22.7982\" cy=\"-250.7889\" rx=\"18\" ry=\"18\"/>\n<text text-anchor=\"middle\" x=\"22.7982\" y=\"-247.0889\" font-family=\"Times,serif\" font-size=\"14.00\" fill=\"#000000\">1</text>\n</g>\n<!-- __main__.newNode object at 0x7fcd0254ab90&#45;&gt;__main__.newNode object at 0x7fccfa594bd0 -->\n<g id=\"edge2\" class=\"edge\">\n<title>__main__.newNode object at 0x7fcd0254ab90&#45;&gt;__main__.newNode object at 0x7fccfa594bd0</title>\n<path fill=\"none\" stroke=\"#000000\" d=\"M43.3995,-305.7259C40.2051,-297.2076 36.2692,-286.7117 32.6964,-277.1841\"/>\n<polygon fill=\"#000000\" stroke=\"#000000\" points=\"35.9393,-275.8638 29.1508,-267.7294 29.385,-278.3217 35.9393,-275.8638\"/>\n</g>\n<!-- __main__.newNode object at 0x7fccfac385d0 -->\n<g id=\"node7\" class=\"node\">\n<title>__main__.newNode object at 0x7fccfac385d0</title>\n<ellipse fill=\"#fff5ee\" stroke=\"#000000\" cx=\"77.7982\" cy=\"-250.7889\" rx=\"18\" ry=\"18\"/>\n<text text-anchor=\"middle\" x=\"77.7982\" y=\"-247.0889\" font-family=\"Times,serif\" font-size=\"14.00\" fill=\"#000000\">6</text>\n</g>\n<!-- __main__.newNode object at 0x7fcd0254ab90&#45;&gt;__main__.newNode object at 0x7fccfac385d0 -->\n<g id=\"edge6\" class=\"edge\">\n<title>__main__.newNode object at 0x7fcd0254ab90&#45;&gt;__main__.newNode object at 0x7fccfac385d0</title>\n<path fill=\"none\" stroke=\"#000000\" d=\"M56.4338,-305.7259C59.7465,-297.2076 63.8282,-286.7117 67.5334,-277.1841\"/>\n<polygon fill=\"#000000\" stroke=\"#000000\" points=\"70.8477,-278.3181 71.2102,-267.7294 64.3236,-275.7809 70.8477,-278.3181\"/>\n</g>\n<!-- __main__.newNode object at 0x7fccfa5a6910 -->\n<g id=\"node4\" class=\"node\">\n<title>__main__.newNode object at 0x7fccfa5a6910</title>\n<ellipse fill=\"#add8e6\" stroke=\"#000000\" cx=\"20.7982\" cy=\"-175.9908\" rx=\"20.5982\" ry=\"20.5982\"/>\n<text text-anchor=\"middle\" x=\"20.7982\" y=\"-172.2908\" font-family=\"Times,serif\" font-size=\"14.00\" fill=\"#000000\">10</text>\n</g>\n<!-- __main__.newNode object at 0x7fccfa594bd0&#45;&gt;__main__.newNode object at 0x7fccfa5a6910 -->\n<g id=\"edge3\" class=\"edge\">\n<title>__main__.newNode object at 0x7fccfa594bd0&#45;&gt;__main__.newNode object at 0x7fccfa5a6910</title>\n<path fill=\"none\" stroke=\"#000000\" d=\"M22.314,-232.6824C22.1085,-224.9979 21.8631,-215.817 21.6301,-207.1046\"/>\n<polygon fill=\"#000000\" stroke=\"#000000\" points=\"25.1218,-206.7446 21.3557,-196.8418 18.1243,-206.9318 25.1218,-206.7446\"/>\n</g>\n<!-- __main__.newNode object at 0x7fcd077afe10 -->\n<g id=\"node5\" class=\"node\">\n<title>__main__.newNode object at 0x7fcd077afe10</title>\n<ellipse fill=\"#fff5ee\" stroke=\"#000000\" cx=\"20.7982\" cy=\"-98.3945\" rx=\"20.5982\" ry=\"20.5982\"/>\n<text text-anchor=\"middle\" x=\"20.7982\" y=\"-94.6945\" font-family=\"Times,serif\" font-size=\"14.00\" fill=\"#000000\">14</text>\n</g>\n<!-- __main__.newNode object at 0x7fccfa5a6910&#45;&gt;__main__.newNode object at 0x7fcd077afe10 -->\n<g id=\"edge4\" class=\"edge\">\n<title>__main__.newNode object at 0x7fccfa5a6910&#45;&gt;__main__.newNode object at 0x7fcd077afe10</title>\n<path fill=\"none\" stroke=\"#000000\" d=\"M20.7982,-154.7872C20.7982,-146.9394 20.7982,-137.8731 20.7982,-129.3364\"/>\n<polygon fill=\"#000000\" stroke=\"#000000\" points=\"24.2983,-129.3037 20.7982,-119.3037 17.2983,-129.3037 24.2983,-129.3037\"/>\n</g>\n<!-- __main__.newNode object at 0x7fccfa5942d0 -->\n<g id=\"node6\" class=\"node\">\n<title>__main__.newNode object at 0x7fccfa5942d0</title>\n<ellipse fill=\"#fff5ee\" stroke=\"#000000\" cx=\"20.7982\" cy=\"-20.7982\" rx=\"20.5982\" ry=\"20.5982\"/>\n<text text-anchor=\"middle\" x=\"20.7982\" y=\"-17.0982\" font-family=\"Times,serif\" font-size=\"14.00\" fill=\"#000000\">13</text>\n</g>\n<!-- __main__.newNode object at 0x7fcd077afe10&#45;&gt;__main__.newNode object at 0x7fccfa5942d0 -->\n<g id=\"edge5\" class=\"edge\">\n<title>__main__.newNode object at 0x7fcd077afe10&#45;&gt;__main__.newNode object at 0x7fccfa5942d0</title>\n<path fill=\"none\" stroke=\"#000000\" d=\"M20.7982,-77.1909C20.7982,-69.3431 20.7982,-60.2768 20.7982,-51.7401\"/>\n<polygon fill=\"#000000\" stroke=\"#000000\" points=\"24.2983,-51.7074 20.7982,-41.7074 17.2983,-51.7074 24.2983,-51.7074\"/>\n</g>\n<!-- __main__.newNode object at 0x7fccfa5ebed0 -->\n<g id=\"node8\" class=\"node\">\n<title>__main__.newNode object at 0x7fccfa5ebed0</title>\n<ellipse fill=\"#fff5ee\" stroke=\"#000000\" cx=\"77.7982\" cy=\"-175.9908\" rx=\"18\" ry=\"18\"/>\n<text text-anchor=\"middle\" x=\"77.7982\" y=\"-172.2908\" font-family=\"Times,serif\" font-size=\"14.00\" fill=\"#000000\">4</text>\n</g>\n<!-- __main__.newNode object at 0x7fccfac385d0&#45;&gt;__main__.newNode object at 0x7fccfa5ebed0 -->\n<g id=\"edge7\" class=\"edge\">\n<title>__main__.newNode object at 0x7fccfac385d0&#45;&gt;__main__.newNode object at 0x7fccfa5ebed0</title>\n<path fill=\"none\" stroke=\"#000000\" d=\"M77.7982,-232.6824C77.7982,-224.2007 77.7982,-213.8961 77.7982,-204.4105\"/>\n<polygon fill=\"#000000\" stroke=\"#000000\" points=\"81.2983,-204.1898 77.7982,-194.1898 74.2983,-204.1899 81.2983,-204.1898\"/>\n</g>\n<!-- __main__.newNode object at 0x7fccfa6b2fd0 -->\n<g id=\"node9\" class=\"node\">\n<title>__main__.newNode object at 0x7fccfa6b2fd0</title>\n<ellipse fill=\"#fff5ee\" stroke=\"#000000\" cx=\"131.7982\" cy=\"-175.9908\" rx=\"18\" ry=\"18\"/>\n<text text-anchor=\"middle\" x=\"131.7982\" y=\"-172.2908\" font-family=\"Times,serif\" font-size=\"14.00\" fill=\"#000000\">7</text>\n</g>\n<!-- __main__.newNode object at 0x7fccfac385d0&#45;&gt;__main__.newNode object at 0x7fccfa6b2fd0 -->\n<g id=\"edge8\" class=\"edge\">\n<title>__main__.newNode object at 0x7fccfac385d0&#45;&gt;__main__.newNode object at 0x7fccfa6b2fd0</title>\n<path fill=\"none\" stroke=\"#000000\" d=\"M88.4668,-236.0112C96.0847,-225.4592 106.481,-211.0588 115.1807,-199.0084\"/>\n<polygon fill=\"#000000\" stroke=\"#000000\" points=\"118.136,-200.8944 121.1517,-190.7378 112.4604,-196.797 118.136,-200.8944\"/>\n</g>\n</g>\n</svg>\n"
          },
          "metadata": {}
        }
      ]
    },
    {
      "cell_type": "code",
      "execution_count": null,
      "metadata": {
        "id": "2XUOGYA6cs79"
      },
      "outputs": [],
      "source": [
        ""
      ]
    }
  ]
}